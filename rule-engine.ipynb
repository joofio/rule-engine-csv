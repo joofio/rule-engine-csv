{
 "cells": [
  {
   "cell_type": "code",
   "execution_count": 15,
   "id": "1f616482-b2ec-4915-9e7c-9551575b3218",
   "metadata": {
    "execution": {
     "iopub.execute_input": "2022-09-16T12:37:36.519980Z",
     "iopub.status.busy": "2022-09-16T12:37:36.518729Z",
     "iopub.status.idle": "2022-09-16T12:37:36.526702Z",
     "shell.execute_reply": "2022-09-16T12:37:36.525885Z",
     "shell.execute_reply.started": "2022-09-16T12:37:36.519912Z"
    }
   },
   "outputs": [],
   "source": [
    "import pandas as pd"
   ]
  },
  {
   "cell_type": "code",
   "execution_count": 16,
   "id": "74057944-1cbc-4ba3-9ed5-c0f9a91fa8fb",
   "metadata": {
    "execution": {
     "iopub.execute_input": "2022-09-16T12:37:36.528978Z",
     "iopub.status.busy": "2022-09-16T12:37:36.528729Z",
     "iopub.status.idle": "2022-09-16T12:37:37.455237Z",
     "shell.execute_reply": "2022-09-16T12:37:37.454388Z",
     "shell.execute_reply.started": "2022-09-16T12:37:36.528955Z"
    },
    "tags": []
   },
   "outputs": [
    {
     "data": {
      "text/html": [
       "<div>\n",
       "<style scoped>\n",
       "    .dataframe tbody tr th:only-of-type {\n",
       "        vertical-align: middle;\n",
       "    }\n",
       "\n",
       "    .dataframe tbody tr th {\n",
       "        vertical-align: top;\n",
       "    }\n",
       "\n",
       "    .dataframe thead th {\n",
       "        text-align: right;\n",
       "    }\n",
       "</style>\n",
       "<table border=\"1\" class=\"dataframe\">\n",
       "  <thead>\n",
       "    <tr style=\"text-align: right;\">\n",
       "      <th></th>\n",
       "      <th>Age</th>\n",
       "      <th>sex</th>\n",
       "      <th>cp</th>\n",
       "      <th>trestbps</th>\n",
       "      <th>chol</th>\n",
       "      <th>fbs</th>\n",
       "      <th>restecg</th>\n",
       "      <th>thalach</th>\n",
       "      <th>exang</th>\n",
       "      <th>oldpeak</th>\n",
       "      <th>slope</th>\n",
       "      <th>ca</th>\n",
       "      <th>thal</th>\n",
       "      <th>num</th>\n",
       "    </tr>\n",
       "  </thead>\n",
       "  <tbody>\n",
       "    <tr>\n",
       "      <th>0</th>\n",
       "      <td>63.0</td>\n",
       "      <td>1.0</td>\n",
       "      <td>1.0</td>\n",
       "      <td>145.0</td>\n",
       "      <td>233.0</td>\n",
       "      <td>1.0</td>\n",
       "      <td>2.0</td>\n",
       "      <td>150.0</td>\n",
       "      <td>0.0</td>\n",
       "      <td>2.3</td>\n",
       "      <td>3.0</td>\n",
       "      <td>0.0</td>\n",
       "      <td>6.0</td>\n",
       "      <td>0</td>\n",
       "    </tr>\n",
       "    <tr>\n",
       "      <th>1</th>\n",
       "      <td>67.0</td>\n",
       "      <td>1.0</td>\n",
       "      <td>4.0</td>\n",
       "      <td>160.0</td>\n",
       "      <td>286.0</td>\n",
       "      <td>0.0</td>\n",
       "      <td>2.0</td>\n",
       "      <td>108.0</td>\n",
       "      <td>1.0</td>\n",
       "      <td>1.5</td>\n",
       "      <td>2.0</td>\n",
       "      <td>3.0</td>\n",
       "      <td>3.0</td>\n",
       "      <td>2</td>\n",
       "    </tr>\n",
       "    <tr>\n",
       "      <th>2</th>\n",
       "      <td>67.0</td>\n",
       "      <td>1.0</td>\n",
       "      <td>4.0</td>\n",
       "      <td>120.0</td>\n",
       "      <td>229.0</td>\n",
       "      <td>0.0</td>\n",
       "      <td>2.0</td>\n",
       "      <td>129.0</td>\n",
       "      <td>1.0</td>\n",
       "      <td>2.6</td>\n",
       "      <td>2.0</td>\n",
       "      <td>2.0</td>\n",
       "      <td>7.0</td>\n",
       "      <td>1</td>\n",
       "    </tr>\n",
       "    <tr>\n",
       "      <th>3</th>\n",
       "      <td>37.0</td>\n",
       "      <td>1.0</td>\n",
       "      <td>3.0</td>\n",
       "      <td>130.0</td>\n",
       "      <td>250.0</td>\n",
       "      <td>0.0</td>\n",
       "      <td>0.0</td>\n",
       "      <td>187.0</td>\n",
       "      <td>0.0</td>\n",
       "      <td>3.5</td>\n",
       "      <td>3.0</td>\n",
       "      <td>0.0</td>\n",
       "      <td>3.0</td>\n",
       "      <td>0</td>\n",
       "    </tr>\n",
       "  </tbody>\n",
       "</table>\n",
       "</div>"
      ],
      "text/plain": [
       "    Age  sex   cp  trestbps   chol  fbs  restecg  thalach  exang  oldpeak  \\\n",
       "0  63.0  1.0  1.0     145.0  233.0  1.0      2.0    150.0    0.0      2.3   \n",
       "1  67.0  1.0  4.0     160.0  286.0  0.0      2.0    108.0    1.0      1.5   \n",
       "2  67.0  1.0  4.0     120.0  229.0  0.0      2.0    129.0    1.0      2.6   \n",
       "3  37.0  1.0  3.0     130.0  250.0  0.0      0.0    187.0    0.0      3.5   \n",
       "\n",
       "   slope   ca thal  num  \n",
       "0    3.0  0.0  6.0    0  \n",
       "1    2.0  3.0  3.0    2  \n",
       "2    2.0  2.0  7.0    1  \n",
       "3    3.0  0.0  3.0    0  "
      ]
     },
     "execution_count": 16,
     "metadata": {},
     "output_type": "execute_result"
    }
   ],
   "source": [
    "#load dataset\n",
    "df=pd.read_table(\"https://archive.ics.uci.edu/ml/machine-learning-databases/heart-disease/processed.cleveland.data\",sep=\",\",header=None)\n",
    "df.columns=[\"Age\",\"sex\",\"cp\",\"trestbps\",\"chol\",\"fbs\",\"restecg\",\"thalach\",\"exang\",\"oldpeak\",\"slope\",\"ca\",\"thal\",\"num\"]\n",
    "df.head(4)"
   ]
  },
  {
   "cell_type": "code",
   "execution_count": 17,
   "id": "6418bfc2-b0e3-4571-b835-412a83f7412b",
   "metadata": {
    "execution": {
     "iopub.execute_input": "2022-09-16T12:37:37.456495Z",
     "iopub.status.busy": "2022-09-16T12:37:37.456258Z",
     "iopub.status.idle": "2022-09-16T12:37:37.461368Z",
     "shell.execute_reply": "2022-09-16T12:37:37.460797Z",
     "shell.execute_reply.started": "2022-09-16T12:37:37.456473Z"
    }
   },
   "outputs": [
    {
     "data": {
      "text/plain": [
       "array([2., 0., 1.])"
      ]
     },
     "execution_count": 17,
     "metadata": {},
     "output_type": "execute_result"
    }
   ],
   "source": [
    "df[\"restecg\"].unique()"
   ]
  },
  {
   "cell_type": "code",
   "execution_count": 18,
   "id": "0b2e7911-9f85-41fa-874b-8426c15afd89",
   "metadata": {
    "execution": {
     "iopub.execute_input": "2022-09-16T12:37:37.462466Z",
     "iopub.status.busy": "2022-09-16T12:37:37.462199Z",
     "iopub.status.idle": "2022-09-16T12:37:37.466242Z",
     "shell.execute_reply": "2022-09-16T12:37:37.465620Z",
     "shell.execute_reply.started": "2022-09-16T12:37:37.462449Z"
    },
    "tags": []
   },
   "outputs": [],
   "source": [
    "#read_rules\n",
    "def read_rules_from_csv(path):\n",
    "    rules=pd.read_csv(path,index_col=0)\n",
    "    return rules.T.to_dict(orient=\"list\")"
   ]
  },
  {
   "cell_type": "code",
   "execution_count": 19,
   "id": "098c1bc7-2bd3-4eef-a4cc-692df4cd96db",
   "metadata": {
    "execution": {
     "iopub.execute_input": "2022-09-16T12:37:37.468574Z",
     "iopub.status.busy": "2022-09-16T12:37:37.468386Z",
     "iopub.status.idle": "2022-09-16T12:37:37.474054Z",
     "shell.execute_reply": "2022-09-16T12:37:37.473670Z",
     "shell.execute_reply.started": "2022-09-16T12:37:37.468557Z"
    },
    "tags": []
   },
   "outputs": [],
   "source": [
    "rules=read_rules_from_csv(\"rules.csv\")"
   ]
  },
  {
   "cell_type": "code",
   "execution_count": 20,
   "id": "f1037ec9-0163-4c56-8bca-fcaf1234cba4",
   "metadata": {
    "execution": {
     "iopub.execute_input": "2022-09-16T12:37:37.474695Z",
     "iopub.status.busy": "2022-09-16T12:37:37.474563Z",
     "iopub.status.idle": "2022-09-16T12:37:37.479101Z",
     "shell.execute_reply": "2022-09-16T12:37:37.478499Z",
     "shell.execute_reply.started": "2022-09-16T12:37:37.474682Z"
    },
    "tags": []
   },
   "outputs": [],
   "source": [
    "def meta_wrap(a,b,method):\n",
    "    #print(a,b,method)\n",
    "    if method==\"gt\":\n",
    "        return a>b\n",
    "    if method==\"neq\":\n",
    "        return a!=b\n",
    "    if method==\"eq\":\n",
    "        return a==b\n",
    "    if method==\"ge\":\n",
    "        return a>=b\n",
    "    if method==\"le\":\n",
    "        return a<=b\n",
    "    if method==\"lt\":\n",
    "        return a>b\n",
    "    "
   ]
  },
  {
   "cell_type": "code",
   "execution_count": 21,
   "id": "ab23cb83-f6d3-4234-9687-f323f1eeaa72",
   "metadata": {
    "execution": {
     "iopub.execute_input": "2022-09-16T12:37:37.480546Z",
     "iopub.status.busy": "2022-09-16T12:37:37.480023Z",
     "iopub.status.idle": "2022-09-16T12:37:37.485051Z",
     "shell.execute_reply": "2022-09-16T12:37:37.484574Z",
     "shell.execute_reply.started": "2022-09-16T12:37:37.480515Z"
    },
    "tags": []
   },
   "outputs": [],
   "source": [
    "def apply_rules(row,rules,nr=0,decision_path=[]):\n",
    "    rule=rules[nr]#node\n",
    "    decision_path.append(nr)\n",
    "    col=rule[0]\n",
    "    signal=rule[1]\n",
    "    value=rule[2]\n",
    "    outcome_y=rule[3]\n",
    "    outcome_y_type=rule[4]\n",
    "    outcome_n=rule[5]\n",
    "    outcome_n_type=rule[6]\n",
    "    #print(data[col][0])\n",
    "    if meta_wrap(row[col],value,signal):\n",
    "        #print(outcome[0])\n",
    "        if outcome_y_type==\"final\":\n",
    "            #print(\"is string\")\n",
    "            return outcome_y\n",
    "        else:\n",
    "            return apply_rules(row,rules[int(outcome_y)],decision_path)\n",
    "    else:\n",
    "        #print(outcome[1])\n",
    "        if outcome_n_type==\"final\":\n",
    "            return outcome_n\n",
    "        else:\n",
    "            #print(\"outcome is nr\")\n",
    "            #print(rules[outcome[1]])\n",
    "            return apply_rules(row,rules,int(outcome_n),decision_path)"
   ]
  },
  {
   "cell_type": "code",
   "execution_count": 22,
   "id": "69cbd9b0-2e17-4d5c-96d4-63b88dd84460",
   "metadata": {
    "execution": {
     "iopub.execute_input": "2022-09-16T12:37:37.486014Z",
     "iopub.status.busy": "2022-09-16T12:37:37.485840Z",
     "iopub.status.idle": "2022-09-16T12:37:37.488461Z",
     "shell.execute_reply": "2022-09-16T12:37:37.488061Z",
     "shell.execute_reply.started": "2022-09-16T12:37:37.486000Z"
    },
    "tags": []
   },
   "outputs": [],
   "source": [
    "def create_decision(row,rules):\n",
    "    #print(row)\n",
    "    decision_path=[]\n",
    "    return apply_rules(row,rules,decision_path=decision_path),decision_path"
   ]
  },
  {
   "cell_type": "code",
   "execution_count": 23,
   "id": "06109f6a-1158-45c9-88b2-5b8f900d138a",
   "metadata": {
    "execution": {
     "iopub.execute_input": "2022-09-16T12:37:37.489418Z",
     "iopub.status.busy": "2022-09-16T12:37:37.489187Z",
     "iopub.status.idle": "2022-09-16T12:37:37.493331Z",
     "shell.execute_reply": "2022-09-16T12:37:37.492808Z",
     "shell.execute_reply.started": "2022-09-16T12:37:37.489386Z"
    },
    "tags": []
   },
   "outputs": [
    {
     "data": {
      "text/plain": [
       "('nok', [0, 1, 2, 3, 4])"
      ]
     },
     "execution_count": 23,
     "metadata": {},
     "output_type": "execute_result"
    }
   ],
   "source": [
    "create_decision(df.iloc[0,:],rules)"
   ]
  },
  {
   "cell_type": "code",
   "execution_count": 24,
   "id": "5f5ce349-58bc-49af-b093-29a75d391f09",
   "metadata": {
    "execution": {
     "iopub.execute_input": "2022-09-16T12:37:37.494468Z",
     "iopub.status.busy": "2022-09-16T12:37:37.494161Z",
     "iopub.status.idle": "2022-09-16T12:37:37.506398Z",
     "shell.execute_reply": "2022-09-16T12:37:37.506020Z",
     "shell.execute_reply.started": "2022-09-16T12:37:37.494453Z"
    },
    "tags": []
   },
   "outputs": [],
   "source": [
    "df[[\"result\",\"path\"]]=df.apply(lambda x: create_decision(x,rules), axis=1, result_type='expand')"
   ]
  },
  {
   "cell_type": "code",
   "execution_count": 25,
   "id": "066f74a9-3d65-403d-b1f1-8e9b8b23cd63",
   "metadata": {
    "execution": {
     "iopub.execute_input": "2022-09-16T12:37:37.507204Z",
     "iopub.status.busy": "2022-09-16T12:37:37.507075Z",
     "iopub.status.idle": "2022-09-16T12:37:37.509572Z",
     "shell.execute_reply": "2022-09-16T12:37:37.509175Z",
     "shell.execute_reply.started": "2022-09-16T12:37:37.507193Z"
    },
    "tags": []
   },
   "outputs": [],
   "source": [
    "def save_rules_to_csv(rules,path):\n",
    "    dd=pd.DataFrame.from_dict(rules,orient='index')\n",
    "    dd.columns=[\"Column\",\"evaluator\",\"comparasion\",\"result_ok\",\"result_ok_type\",\"result_nok\",\"result_nok_type\"]\n",
    "    dd.to_csv(path)"
   ]
  },
  {
   "cell_type": "code",
   "execution_count": 26,
   "id": "9e9bacf9-bddc-4a0c-90c6-bce768a4e1b6",
   "metadata": {
    "execution": {
     "iopub.execute_input": "2022-09-16T12:37:37.510602Z",
     "iopub.status.busy": "2022-09-16T12:37:37.510382Z",
     "iopub.status.idle": "2022-09-16T12:37:37.514413Z",
     "shell.execute_reply": "2022-09-16T12:37:37.514047Z",
     "shell.execute_reply.started": "2022-09-16T12:37:37.510584Z"
    },
    "tags": []
   },
   "outputs": [],
   "source": [
    "save_rules_to_csv(rules,\"rules.csv\")"
   ]
  },
  {
   "cell_type": "code",
   "execution_count": 27,
   "id": "32fbf931-bd35-4d32-8cef-730f3d212565",
   "metadata": {
    "execution": {
     "iopub.execute_input": "2022-09-16T12:37:37.515236Z",
     "iopub.status.busy": "2022-09-16T12:37:37.515085Z",
     "iopub.status.idle": "2022-09-16T12:37:37.527360Z",
     "shell.execute_reply": "2022-09-16T12:37:37.527002Z",
     "shell.execute_reply.started": "2022-09-16T12:37:37.515225Z"
    },
    "tags": []
   },
   "outputs": [
    {
     "data": {
      "text/html": [
       "<div>\n",
       "<style scoped>\n",
       "    .dataframe tbody tr th:only-of-type {\n",
       "        vertical-align: middle;\n",
       "    }\n",
       "\n",
       "    .dataframe tbody tr th {\n",
       "        vertical-align: top;\n",
       "    }\n",
       "\n",
       "    .dataframe thead th {\n",
       "        text-align: right;\n",
       "    }\n",
       "</style>\n",
       "<table border=\"1\" class=\"dataframe\">\n",
       "  <thead>\n",
       "    <tr style=\"text-align: right;\">\n",
       "      <th></th>\n",
       "      <th>Age</th>\n",
       "      <th>sex</th>\n",
       "      <th>restecg</th>\n",
       "      <th>result</th>\n",
       "      <th>path</th>\n",
       "    </tr>\n",
       "  </thead>\n",
       "  <tbody>\n",
       "    <tr>\n",
       "      <th>0</th>\n",
       "      <td>63.0</td>\n",
       "      <td>1.0</td>\n",
       "      <td>2.0</td>\n",
       "      <td>nok</td>\n",
       "      <td>[0, 1, 2, 3, 4]</td>\n",
       "    </tr>\n",
       "    <tr>\n",
       "      <th>1</th>\n",
       "      <td>67.0</td>\n",
       "      <td>1.0</td>\n",
       "      <td>2.0</td>\n",
       "      <td>ok</td>\n",
       "      <td>[0]</td>\n",
       "    </tr>\n",
       "    <tr>\n",
       "      <th>2</th>\n",
       "      <td>67.0</td>\n",
       "      <td>1.0</td>\n",
       "      <td>2.0</td>\n",
       "      <td>ok</td>\n",
       "      <td>[0]</td>\n",
       "    </tr>\n",
       "    <tr>\n",
       "      <th>3</th>\n",
       "      <td>37.0</td>\n",
       "      <td>1.0</td>\n",
       "      <td>0.0</td>\n",
       "      <td>nok</td>\n",
       "      <td>[0, 1, 2]</td>\n",
       "    </tr>\n",
       "    <tr>\n",
       "      <th>4</th>\n",
       "      <td>41.0</td>\n",
       "      <td>0.0</td>\n",
       "      <td>2.0</td>\n",
       "      <td>nok</td>\n",
       "      <td>[0, 1]</td>\n",
       "    </tr>\n",
       "    <tr>\n",
       "      <th>...</th>\n",
       "      <td>...</td>\n",
       "      <td>...</td>\n",
       "      <td>...</td>\n",
       "      <td>...</td>\n",
       "      <td>...</td>\n",
       "    </tr>\n",
       "    <tr>\n",
       "      <th>298</th>\n",
       "      <td>45.0</td>\n",
       "      <td>1.0</td>\n",
       "      <td>0.0</td>\n",
       "      <td>nok</td>\n",
       "      <td>[0, 1, 2]</td>\n",
       "    </tr>\n",
       "    <tr>\n",
       "      <th>299</th>\n",
       "      <td>68.0</td>\n",
       "      <td>1.0</td>\n",
       "      <td>0.0</td>\n",
       "      <td>ok</td>\n",
       "      <td>[0]</td>\n",
       "    </tr>\n",
       "    <tr>\n",
       "      <th>300</th>\n",
       "      <td>57.0</td>\n",
       "      <td>1.0</td>\n",
       "      <td>0.0</td>\n",
       "      <td>nok</td>\n",
       "      <td>[0, 1, 2]</td>\n",
       "    </tr>\n",
       "    <tr>\n",
       "      <th>301</th>\n",
       "      <td>57.0</td>\n",
       "      <td>0.0</td>\n",
       "      <td>2.0</td>\n",
       "      <td>nok</td>\n",
       "      <td>[0, 1]</td>\n",
       "    </tr>\n",
       "    <tr>\n",
       "      <th>302</th>\n",
       "      <td>38.0</td>\n",
       "      <td>1.0</td>\n",
       "      <td>0.0</td>\n",
       "      <td>nok</td>\n",
       "      <td>[0, 1, 2]</td>\n",
       "    </tr>\n",
       "  </tbody>\n",
       "</table>\n",
       "<p>303 rows × 5 columns</p>\n",
       "</div>"
      ],
      "text/plain": [
       "      Age  sex  restecg result             path\n",
       "0    63.0  1.0      2.0    nok  [0, 1, 2, 3, 4]\n",
       "1    67.0  1.0      2.0     ok              [0]\n",
       "2    67.0  1.0      2.0     ok              [0]\n",
       "3    37.0  1.0      0.0    nok        [0, 1, 2]\n",
       "4    41.0  0.0      2.0    nok           [0, 1]\n",
       "..    ...  ...      ...    ...              ...\n",
       "298  45.0  1.0      0.0    nok        [0, 1, 2]\n",
       "299  68.0  1.0      0.0     ok              [0]\n",
       "300  57.0  1.0      0.0    nok        [0, 1, 2]\n",
       "301  57.0  0.0      2.0    nok           [0, 1]\n",
       "302  38.0  1.0      0.0    nok        [0, 1, 2]\n",
       "\n",
       "[303 rows x 5 columns]"
      ]
     },
     "execution_count": 27,
     "metadata": {},
     "output_type": "execute_result"
    }
   ],
   "source": [
    "df[[\"Age\",\"sex\",\"restecg\",\"result\",\"path\"]]"
   ]
  },
  {
   "cell_type": "code",
   "execution_count": 28,
   "id": "afb71753-cd94-4511-b44b-09d0afde036c",
   "metadata": {
    "execution": {
     "iopub.execute_input": "2022-09-16T12:37:37.530436Z",
     "iopub.status.busy": "2022-09-16T12:37:37.530202Z",
     "iopub.status.idle": "2022-09-16T12:37:37.533127Z",
     "shell.execute_reply": "2022-09-16T12:37:37.532850Z",
     "shell.execute_reply.started": "2022-09-16T12:37:37.530422Z"
    },
    "tags": []
   },
   "outputs": [
    {
     "data": {
      "text/plain": [
       "array(['nok', 'ok'], dtype=object)"
      ]
     },
     "execution_count": 28,
     "metadata": {},
     "output_type": "execute_result"
    }
   ],
   "source": [
    "df[\"result\"].unique()"
   ]
  }
 ],
 "metadata": {
  "kernelspec": {
   "display_name": "Python (pylatest)",
   "language": "python",
   "name": "py3latest"
  },
  "language_info": {
   "codemirror_mode": {
    "name": "ipython",
    "version": 3
   },
   "file_extension": ".py",
   "mimetype": "text/x-python",
   "name": "python",
   "nbconvert_exporter": "python",
   "pygments_lexer": "ipython3",
   "version": "3.10.6"
  }
 },
 "nbformat": 4,
 "nbformat_minor": 5
}
