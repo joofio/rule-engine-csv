{
 "cells": [
  {
   "cell_type": "code",
   "execution_count": 1,
   "id": "1f616482-b2ec-4915-9e7c-9551575b3218",
   "metadata": {
    "execution": {
     "iopub.execute_input": "2022-09-16T12:32:19.164369Z",
     "iopub.status.busy": "2022-09-16T12:32:19.163661Z",
     "iopub.status.idle": "2022-09-16T12:32:19.454315Z",
     "shell.execute_reply": "2022-09-16T12:32:19.453472Z",
     "shell.execute_reply.started": "2022-09-16T12:32:19.164298Z"
    }
   },
   "outputs": [],
   "source": [
    "import pandas as pd"
   ]
  },
  {
   "cell_type": "code",
   "execution_count": 2,
   "id": "74057944-1cbc-4ba3-9ed5-c0f9a91fa8fb",
   "metadata": {
    "execution": {
     "iopub.execute_input": "2022-09-16T12:32:19.455254Z",
     "iopub.status.busy": "2022-09-16T12:32:19.455097Z",
     "iopub.status.idle": "2022-09-16T12:32:20.402096Z",
     "shell.execute_reply": "2022-09-16T12:32:20.401555Z",
     "shell.execute_reply.started": "2022-09-16T12:32:19.455244Z"
    },
    "tags": []
   },
   "outputs": [
    {
     "data": {
      "text/html": [
       "<div>\n",
       "<style scoped>\n",
       "    .dataframe tbody tr th:only-of-type {\n",
       "        vertical-align: middle;\n",
       "    }\n",
       "\n",
       "    .dataframe tbody tr th {\n",
       "        vertical-align: top;\n",
       "    }\n",
       "\n",
       "    .dataframe thead th {\n",
       "        text-align: right;\n",
       "    }\n",
       "</style>\n",
       "<table border=\"1\" class=\"dataframe\">\n",
       "  <thead>\n",
       "    <tr style=\"text-align: right;\">\n",
       "      <th></th>\n",
       "      <th>Age</th>\n",
       "      <th>sex</th>\n",
       "      <th>cp</th>\n",
       "      <th>trestbps</th>\n",
       "      <th>chol</th>\n",
       "      <th>fbs</th>\n",
       "      <th>restecg</th>\n",
       "      <th>thalach</th>\n",
       "      <th>exang</th>\n",
       "      <th>oldpeak</th>\n",
       "      <th>slope</th>\n",
       "      <th>ca</th>\n",
       "      <th>thal</th>\n",
       "      <th>num</th>\n",
       "    </tr>\n",
       "  </thead>\n",
       "  <tbody>\n",
       "    <tr>\n",
       "      <th>0</th>\n",
       "      <td>63.0</td>\n",
       "      <td>1.0</td>\n",
       "      <td>1.0</td>\n",
       "      <td>145.0</td>\n",
       "      <td>233.0</td>\n",
       "      <td>1.0</td>\n",
       "      <td>2.0</td>\n",
       "      <td>150.0</td>\n",
       "      <td>0.0</td>\n",
       "      <td>2.3</td>\n",
       "      <td>3.0</td>\n",
       "      <td>0.0</td>\n",
       "      <td>6.0</td>\n",
       "      <td>0</td>\n",
       "    </tr>\n",
       "    <tr>\n",
       "      <th>1</th>\n",
       "      <td>67.0</td>\n",
       "      <td>1.0</td>\n",
       "      <td>4.0</td>\n",
       "      <td>160.0</td>\n",
       "      <td>286.0</td>\n",
       "      <td>0.0</td>\n",
       "      <td>2.0</td>\n",
       "      <td>108.0</td>\n",
       "      <td>1.0</td>\n",
       "      <td>1.5</td>\n",
       "      <td>2.0</td>\n",
       "      <td>3.0</td>\n",
       "      <td>3.0</td>\n",
       "      <td>2</td>\n",
       "    </tr>\n",
       "    <tr>\n",
       "      <th>2</th>\n",
       "      <td>67.0</td>\n",
       "      <td>1.0</td>\n",
       "      <td>4.0</td>\n",
       "      <td>120.0</td>\n",
       "      <td>229.0</td>\n",
       "      <td>0.0</td>\n",
       "      <td>2.0</td>\n",
       "      <td>129.0</td>\n",
       "      <td>1.0</td>\n",
       "      <td>2.6</td>\n",
       "      <td>2.0</td>\n",
       "      <td>2.0</td>\n",
       "      <td>7.0</td>\n",
       "      <td>1</td>\n",
       "    </tr>\n",
       "    <tr>\n",
       "      <th>3</th>\n",
       "      <td>37.0</td>\n",
       "      <td>1.0</td>\n",
       "      <td>3.0</td>\n",
       "      <td>130.0</td>\n",
       "      <td>250.0</td>\n",
       "      <td>0.0</td>\n",
       "      <td>0.0</td>\n",
       "      <td>187.0</td>\n",
       "      <td>0.0</td>\n",
       "      <td>3.5</td>\n",
       "      <td>3.0</td>\n",
       "      <td>0.0</td>\n",
       "      <td>3.0</td>\n",
       "      <td>0</td>\n",
       "    </tr>\n",
       "  </tbody>\n",
       "</table>\n",
       "</div>"
      ],
      "text/plain": [
       "    Age  sex   cp  trestbps   chol  fbs  restecg  thalach  exang  oldpeak  \\\n",
       "0  63.0  1.0  1.0     145.0  233.0  1.0      2.0    150.0    0.0      2.3   \n",
       "1  67.0  1.0  4.0     160.0  286.0  0.0      2.0    108.0    1.0      1.5   \n",
       "2  67.0  1.0  4.0     120.0  229.0  0.0      2.0    129.0    1.0      2.6   \n",
       "3  37.0  1.0  3.0     130.0  250.0  0.0      0.0    187.0    0.0      3.5   \n",
       "\n",
       "   slope   ca thal  num  \n",
       "0    3.0  0.0  6.0    0  \n",
       "1    2.0  3.0  3.0    2  \n",
       "2    2.0  2.0  7.0    1  \n",
       "3    3.0  0.0  3.0    0  "
      ]
     },
     "execution_count": 2,
     "metadata": {},
     "output_type": "execute_result"
    }
   ],
   "source": [
    "#load dataset\n",
    "df=pd.read_table(\"https://archive.ics.uci.edu/ml/machine-learning-databases/heart-disease/processed.cleveland.data\",sep=\",\",header=None)\n",
    "df.columns=[\"Age\",\"sex\",\"cp\",\"trestbps\",\"chol\",\"fbs\",\"restecg\",\"thalach\",\"exang\",\"oldpeak\",\"slope\",\"ca\",\"thal\",\"num\"]\n",
    "df.head(4)"
   ]
  },
  {
   "cell_type": "code",
   "execution_count": 3,
   "id": "6418bfc2-b0e3-4571-b835-412a83f7412b",
   "metadata": {
    "execution": {
     "iopub.execute_input": "2022-09-16T12:32:20.405141Z",
     "iopub.status.busy": "2022-09-16T12:32:20.404727Z",
     "iopub.status.idle": "2022-09-16T12:32:20.409407Z",
     "shell.execute_reply": "2022-09-16T12:32:20.408917Z",
     "shell.execute_reply.started": "2022-09-16T12:32:20.405118Z"
    }
   },
   "outputs": [
    {
     "data": {
      "text/plain": [
       "array([2., 0., 1.])"
      ]
     },
     "execution_count": 3,
     "metadata": {},
     "output_type": "execute_result"
    }
   ],
   "source": [
    "df[\"restecg\"].unique()"
   ]
  },
  {
   "cell_type": "code",
   "execution_count": 4,
   "id": "0b2e7911-9f85-41fa-874b-8426c15afd89",
   "metadata": {
    "execution": {
     "iopub.execute_input": "2022-09-16T12:32:20.410232Z",
     "iopub.status.busy": "2022-09-16T12:32:20.410078Z",
     "iopub.status.idle": "2022-09-16T12:32:20.413374Z",
     "shell.execute_reply": "2022-09-16T12:32:20.412877Z",
     "shell.execute_reply.started": "2022-09-16T12:32:20.410217Z"
    },
    "tags": []
   },
   "outputs": [],
   "source": [
    "#read_rules\n",
    "def read_rules_from_csv(path):\n",
    "    rules=pd.read_csv(path,index_col=0)\n",
    "    return rules.T.to_dict(orient=\"list\")"
   ]
  },
  {
   "cell_type": "code",
   "execution_count": 6,
   "id": "098c1bc7-2bd3-4eef-a4cc-692df4cd96db",
   "metadata": {
    "execution": {
     "iopub.execute_input": "2022-09-16T12:32:43.330125Z",
     "iopub.status.busy": "2022-09-16T12:32:43.329133Z",
     "iopub.status.idle": "2022-09-16T12:32:43.344151Z",
     "shell.execute_reply": "2022-09-16T12:32:43.343349Z",
     "shell.execute_reply.started": "2022-09-16T12:32:43.330063Z"
    },
    "tags": []
   },
   "outputs": [],
   "source": [
    "rules=read_rules_from_csv(\"dd.csv\")"
   ]
  },
  {
   "cell_type": "code",
   "execution_count": null,
   "id": "f1037ec9-0163-4c56-8bca-fcaf1234cba4",
   "metadata": {
    "execution": {
     "iopub.status.busy": "2022-09-16T12:32:20.881435Z",
     "iopub.status.idle": "2022-09-16T12:32:20.881547Z",
     "shell.execute_reply": "2022-09-16T12:32:20.881490Z",
     "shell.execute_reply.started": "2022-09-16T12:32:20.881484Z"
    },
    "tags": []
   },
   "outputs": [],
   "source": [
    "def meta_wrap(a,b,method):\n",
    "    #print(a,b,method)\n",
    "    if method==\"gt\":\n",
    "        return a>b\n",
    "    if method==\"neq\":\n",
    "        return a!=b\n",
    "    if method==\"eq\":\n",
    "        return a==b\n",
    "    if method==\"ge\":\n",
    "        return a>=b\n",
    "    if method==\"le\":\n",
    "        return a<=b\n",
    "    if method==\"lt\":\n",
    "        return a>b\n",
    "    "
   ]
  },
  {
   "cell_type": "code",
   "execution_count": null,
   "id": "ab23cb83-f6d3-4234-9687-f323f1eeaa72",
   "metadata": {
    "execution": {
     "iopub.status.busy": "2022-09-16T12:32:20.881943Z",
     "iopub.status.idle": "2022-09-16T12:32:20.882071Z",
     "shell.execute_reply": "2022-09-16T12:32:20.882006Z",
     "shell.execute_reply.started": "2022-09-16T12:32:20.882000Z"
    },
    "tags": []
   },
   "outputs": [],
   "source": [
    "def apply_rules(row,rules,nr=0,decision_path=[]):\n",
    "    rule=rules[nr]#node\n",
    "    decision_path.append(nr)\n",
    "    col=rule[0]\n",
    "    signal=rule[1]\n",
    "    value=rule[2]\n",
    "    outcome_y=rule[3]\n",
    "    outcome_y_type=rule[4]\n",
    "    outcome_n=rule[5]\n",
    "    outcome_n_type=rule[6]\n",
    "    #print(data[col][0])\n",
    "    if meta_wrap(row[col],value,signal):\n",
    "        #print(outcome[0])\n",
    "        if outcome_y_type==\"final\":\n",
    "            #print(\"is string\")\n",
    "            return outcome_y\n",
    "        else:\n",
    "            return apply_rules(row,rules[int(outcome_y)],decision_path)\n",
    "    else:\n",
    "        #print(outcome[1])\n",
    "        if outcome_n_type==\"final\":\n",
    "            return outcome_n\n",
    "        else:\n",
    "            #print(\"outcome is nr\")\n",
    "            #print(rules[outcome[1]])\n",
    "            return apply_rules(row,rules,int(outcome_n),decision_path)"
   ]
  },
  {
   "cell_type": "code",
   "execution_count": null,
   "id": "69cbd9b0-2e17-4d5c-96d4-63b88dd84460",
   "metadata": {
    "execution": {
     "iopub.status.busy": "2022-09-16T12:32:20.882697Z",
     "iopub.status.idle": "2022-09-16T12:32:20.882834Z",
     "shell.execute_reply": "2022-09-16T12:32:20.882776Z",
     "shell.execute_reply.started": "2022-09-16T12:32:20.882771Z"
    },
    "tags": []
   },
   "outputs": [],
   "source": [
    "def create_decision(row,rules):\n",
    "    #print(row)\n",
    "    decision_path=[]\n",
    "    return apply_rules(row,rules,decision_path=decision_path),decision_path"
   ]
  },
  {
   "cell_type": "code",
   "execution_count": null,
   "id": "06109f6a-1158-45c9-88b2-5b8f900d138a",
   "metadata": {
    "execution": {
     "iopub.status.busy": "2022-09-16T12:32:20.883392Z",
     "iopub.status.idle": "2022-09-16T12:32:20.883502Z",
     "shell.execute_reply": "2022-09-16T12:32:20.883444Z",
     "shell.execute_reply.started": "2022-09-16T12:32:20.883439Z"
    },
    "tags": []
   },
   "outputs": [],
   "source": [
    "create_decision(df.iloc[0,:],rules)"
   ]
  },
  {
   "cell_type": "code",
   "execution_count": null,
   "id": "5f5ce349-58bc-49af-b093-29a75d391f09",
   "metadata": {
    "execution": {
     "iopub.status.busy": "2022-09-16T12:32:20.884003Z",
     "iopub.status.idle": "2022-09-16T12:32:20.884118Z",
     "shell.execute_reply": "2022-09-16T12:32:20.884058Z",
     "shell.execute_reply.started": "2022-09-16T12:32:20.884050Z"
    },
    "tags": []
   },
   "outputs": [],
   "source": [
    "df[[\"result\",\"path\"]]=df.apply(lambda x: create_decision(x,rules), axis=1, result_type='expand')"
   ]
  },
  {
   "cell_type": "code",
   "execution_count": null,
   "id": "066f74a9-3d65-403d-b1f1-8e9b8b23cd63",
   "metadata": {
    "execution": {
     "iopub.status.busy": "2022-09-16T12:32:20.884790Z",
     "iopub.status.idle": "2022-09-16T12:32:20.884921Z",
     "shell.execute_reply": "2022-09-16T12:32:20.884857Z",
     "shell.execute_reply.started": "2022-09-16T12:32:20.884851Z"
    },
    "tags": []
   },
   "outputs": [],
   "source": [
    "def save_rules_to_csv(rules,path):\n",
    "    dd=pd.DataFrame.from_dict(rules,orient='index')\n",
    "    dd.columns=[\"Column\",\"evaluator\",\"comparasion\",\"result_ok\",\"result_ok_type\",\"result_nok\",\"result_nok_type\"]\n",
    "    dd.to_csv(path)"
   ]
  },
  {
   "cell_type": "code",
   "execution_count": null,
   "id": "9e9bacf9-bddc-4a0c-90c6-bce768a4e1b6",
   "metadata": {
    "execution": {
     "iopub.status.busy": "2022-09-16T12:32:20.885251Z",
     "iopub.status.idle": "2022-09-16T12:32:20.885386Z",
     "shell.execute_reply": "2022-09-16T12:32:20.885318Z",
     "shell.execute_reply.started": "2022-09-16T12:32:20.885312Z"
    },
    "tags": []
   },
   "outputs": [],
   "source": [
    "save_rules_to_csv(rules,\"rules.csv\")"
   ]
  },
  {
   "cell_type": "code",
   "execution_count": null,
   "id": "32fbf931-bd35-4d32-8cef-730f3d212565",
   "metadata": {
    "execution": {
     "iopub.status.busy": "2022-09-16T12:32:20.886079Z",
     "iopub.status.idle": "2022-09-16T12:32:20.886471Z",
     "shell.execute_reply": "2022-09-16T12:32:20.886381Z",
     "shell.execute_reply.started": "2022-09-16T12:32:20.886371Z"
    },
    "tags": []
   },
   "outputs": [],
   "source": [
    "df[[\"Age\",\"sex\",\"restecg\",\"result\",\"path\"]]"
   ]
  },
  {
   "cell_type": "code",
   "execution_count": null,
   "id": "afb71753-cd94-4511-b44b-09d0afde036c",
   "metadata": {
    "execution": {
     "iopub.status.busy": "2022-09-16T12:32:20.887001Z",
     "iopub.status.idle": "2022-09-16T12:32:20.887127Z",
     "shell.execute_reply": "2022-09-16T12:32:20.887062Z",
     "shell.execute_reply.started": "2022-09-16T12:32:20.887057Z"
    },
    "tags": []
   },
   "outputs": [],
   "source": [
    "df[\"result\"].unique()"
   ]
  }
 ],
 "metadata": {
  "kernelspec": {
   "display_name": "Python (pylatest)",
   "language": "python",
   "name": "py3latest"
  },
  "language_info": {
   "codemirror_mode": {
    "name": "ipython",
    "version": 3
   },
   "file_extension": ".py",
   "mimetype": "text/x-python",
   "name": "python",
   "nbconvert_exporter": "python",
   "pygments_lexer": "ipython3",
   "version": "3.10.6"
  }
 },
 "nbformat": 4,
 "nbformat_minor": 5
}
